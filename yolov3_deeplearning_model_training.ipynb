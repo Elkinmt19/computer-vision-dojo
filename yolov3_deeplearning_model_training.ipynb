{
  "nbformat": 4,
  "nbformat_minor": 0,
  "metadata": {
    "colab": {
      "name": "yolov3_deeplearning_model_training.ipynb",
      "provenance": [],
      "authorship_tag": "ABX9TyMQg1VZwEPhRL7OPlUTWltU",
      "include_colab_link": true
    },
    "kernelspec": {
      "name": "python3",
      "display_name": "Python 3"
    },
    "language_info": {
      "name": "python"
    },
    "accelerator": "GPU"
  },
  "cells": [
    {
      "cell_type": "markdown",
      "metadata": {
        "id": "view-in-github",
        "colab_type": "text"
      },
      "source": [
        "<a href=\"https://colab.research.google.com/github/Elkinmt19/computer-vision-dojo/blob/develop/yolov3_deeplearning_model_training.ipynb\" target=\"_parent\"><img src=\"https://colab.research.google.com/assets/colab-badge.svg\" alt=\"Open In Colab\"/></a>"
      ]
    },
    {
      "cell_type": "markdown",
      "metadata": {
        "id": "2xQTNBpQyNgh"
      },
      "source": [
        "# **YOLOv3 DeepLearning Model Training** "
      ]
    },
    {
      "cell_type": "markdown",
      "metadata": {
        "id": "-xXydq_y0Jgu"
      },
      "source": [
        "\n",
        "\n",
        "## ***Enabling GPU within the notebook***\n",
        "First It is needed to enable GPU acceleration within the Colab notebook so that the YOLOv3 system will be able to process detections over 100 faster than CPU.\n",
        "\n"
      ]
    },
    {
      "cell_type": "markdown",
      "metadata": {
        "id": "0HeyBG0k1LhA"
      },
      "source": [
        "## ***Clonning and Building darknet framework***\n"
      ]
    },
    {
      "cell_type": "code",
      "metadata": {
        "id": "xqY_dofNfvgW"
      },
      "source": [
        "# clone darknet repo\n",
        "!git clone https://github.com/AlexeyAB/darknet"
      ],
      "execution_count": null,
      "outputs": []
    },
    {
      "cell_type": "code",
      "metadata": {
        "id": "BSlboZUm1cLq"
      },
      "source": [
        "# change makefile to have GPU and OPENCV enabled\n",
        "%cd darknet\n",
        "!sed -i 's/OPENCV=0/OPENCV=1/' Makefile\n",
        "!sed -i 's/GPU=0/GPU=1/' Makefile\n",
        "!sed -i 's/CUDNN=0/CUDNN=1/' Makefile"
      ],
      "execution_count": null,
      "outputs": []
    },
    {
      "cell_type": "code",
      "metadata": {
        "id": "1yNEeNot1fGs"
      },
      "source": [
        "# verify CUDA\n",
        "!/usr/local/cuda/bin/nvcc --version"
      ],
      "execution_count": null,
      "outputs": []
    },
    {
      "cell_type": "code",
      "metadata": {
        "id": "Gd2oxqZW1hLM"
      },
      "source": [
        "# make darknet (build)\n",
        "!make"
      ],
      "execution_count": null,
      "outputs": []
    },
    {
      "cell_type": "markdown",
      "metadata": {
        "id": "p0yQWtLi1nFa"
      },
      "source": [
        "## ***Download pretrained YOLOv3 weights***"
      ]
    },
    {
      "cell_type": "code",
      "metadata": {
        "id": "xy3mn7J_1jlE"
      },
      "source": [
        "# get yolov3 pretrained coco dataset weights\n",
        "!wget https://pjreddie.com/media/files/yolov3.weights"
      ],
      "execution_count": null,
      "outputs": []
    },
    {
      "cell_type": "code",
      "metadata": {
        "id": "C4Nb82Ml11g6"
      },
      "source": [
        "# define helper functions\n",
        "def imShow(path):\n",
        "  import cv2\n",
        "  import matplotlib.pyplot as plt\n",
        "  %matplotlib inline\n",
        "\n",
        "  image = cv2.imread(path)\n",
        "  height, width = image.shape[:2]\n",
        "  resized_image = cv2.resize(image,(3*width, 3*height), interpolation = cv2.INTER_CUBIC)\n",
        "\n",
        "  fig = plt.gcf()\n",
        "  fig.set_size_inches(18, 10)\n",
        "  plt.axis(\"off\")\n",
        "  plt.imshow(cv2.cvtColor(resized_image, cv2.COLOR_BGR2RGB))\n",
        "  plt.show()\n",
        "\n",
        "# use this to upload files\n",
        "def upload():\n",
        "  from google.colab import files\n",
        "  uploaded = files.upload() \n",
        "  for name, data in uploaded.items():\n",
        "    with open(name, 'wb') as f:\n",
        "      f.write(data)\n",
        "      print ('saved file', name)\n",
        "\n",
        "# use this to download a file  \n",
        "def download(path):\n",
        "  from google.colab import files\n",
        "  files.download(path)"
      ],
      "execution_count": null,
      "outputs": []
    },
    {
      "cell_type": "markdown",
      "metadata": {
        "id": "u-5Q0Epz15XV"
      },
      "source": [
        "## ***Test Running a simple detection with darknet and YOLOv3***\n",
        "The object detector can be run using the following command:\n",
        "\n",
        "\n",
        "```\n",
        "!./darknet detect <path to config> <path to weights> <path to image>\n",
        "```"
      ]
    },
    {
      "cell_type": "code",
      "metadata": {
        "id": "N-8iREoR2QaX"
      },
      "source": [
        "# run darknet detection\n",
        "!./darknet detect cfg/yolov3.cfg yolov3.weights data/person.jpg"
      ],
      "execution_count": null,
      "outputs": []
    },
    {
      "cell_type": "code",
      "metadata": {
        "id": "BPGdkscH2atS"
      },
      "source": [
        "# show image using our helper function\n",
        "imShow('predictions.jpg')"
      ],
      "execution_count": null,
      "outputs": []
    },
    {
      "cell_type": "markdown",
      "metadata": {
        "id": "b0C9kFjd44Ko"
      },
      "source": [
        "## ***Setup a link between the notbook and our Google Drive account***"
      ]
    },
    {
      "cell_type": "code",
      "metadata": {
        "id": "tqg3loVt5IJp"
      },
      "source": [
        "# import drive module funtionalites\n",
        "from google.colab import drive\n",
        "drive.mount('/content/gdrive')"
      ],
      "execution_count": null,
      "outputs": []
    },
    {
      "cell_type": "code",
      "metadata": {
        "id": "5aeVW7_s5fwy"
      },
      "source": [
        "# this creates a symbolic link so that now the path /content/gdrive/My\\ Drive/ is equal to /mydrive\n",
        "!ln -s /content/gdrive/My\\ Drive/ /mydrive\n",
        "!ls /mydrive"
      ],
      "execution_count": null,
      "outputs": []
    },
    {
      "cell_type": "markdown",
      "metadata": {
        "id": "S4qWpLHt5x_Y"
      },
      "source": [
        "## ***Moving the dataset into the VM***\n",
        "The dataset's file must be called \"obj.zip\"."
      ]
    },
    {
      "cell_type": "code",
      "metadata": {
        "id": "minkLx0E5iEM"
      },
      "source": [
        "# this is where my zip is stored (I created a yolov3 folder where I will get my required files from)\n",
        "!ls /mydrive/yolov3"
      ],
      "execution_count": null,
      "outputs": []
    },
    {
      "cell_type": "code",
      "metadata": {
        "id": "ZPuH1ps36Dh1"
      },
      "source": [
        "# copy the .zip file into the root directory of cloud VM\n",
        "!cp /mydrive/yolov3/obj.zip ../"
      ],
      "execution_count": null,
      "outputs": []
    },
    {
      "cell_type": "code",
      "metadata": {
        "id": "KUA3XNeC69o7"
      },
      "source": [
        "# unzip the zip file and its contents should now be in /darknet/data/obj\n",
        "!unzip ../obj.zip -d data/"
      ],
      "execution_count": null,
      "outputs": []
    },
    {
      "cell_type": "markdown",
      "metadata": {
        "id": "5psQPMDb7Epp"
      },
      "source": [
        "## ***Upload the YOLO files required for the training***"
      ]
    },
    {
      "cell_type": "code",
      "metadata": {
        "id": "EewOsqis7Nyn"
      },
      "source": [
        "# upload the custom .cfg back to cloud VM from Google Drive\n",
        "%cd darknet\n",
        "!cp /mydrive/yolov3/yolov3_custom.cfg ./cfg"
      ],
      "execution_count": null,
      "outputs": []
    },
    {
      "cell_type": "code",
      "metadata": {
        "id": "Y_lpTb077Zcv"
      },
      "source": [
        "# upload the obj.names and obj.data files to cloud VM from Google Drive\n",
        "!cp /mydrive/yolov3/obj.names ./data\n",
        "!cp /mydrive/yolov3/obj.data  ./data"
      ],
      "execution_count": null,
      "outputs": []
    },
    {
      "cell_type": "markdown",
      "metadata": {
        "id": "buv3ekw67enr"
      },
      "source": [
        "## ***Generating the train.txt file***"
      ]
    },
    {
      "cell_type": "code",
      "metadata": {
        "id": "36_r6fGV7mcR"
      },
      "source": [
        "# upload the generate_train.py script to cloud VM from Google Drive\n",
        "!cp /mydrive/yolov3/generate_train.py ./"
      ],
      "execution_count": null,
      "outputs": []
    },
    {
      "cell_type": "code",
      "metadata": {
        "id": "hbowyQeZ7qUg"
      },
      "source": [
        "!python generate_train.py"
      ],
      "execution_count": null,
      "outputs": []
    },
    {
      "cell_type": "code",
      "metadata": {
        "id": "yEKfwHe37q6b"
      },
      "source": [
        "# verify train.txt can be seen in our darknet/data folder\n",
        "!ls data/"
      ],
      "execution_count": null,
      "outputs": []
    },
    {
      "cell_type": "markdown",
      "metadata": {
        "id": "UnoMlAuv7vOX"
      },
      "source": [
        "## ***Download pre-trained weights for the convolutional layers***"
      ]
    },
    {
      "cell_type": "code",
      "metadata": {
        "id": "pEmkZ48T74a7"
      },
      "source": [
        "# upload pretrained convolutional layer weights\n",
        "!wget http://pjreddie.com/media/files/darknet53.conv.74"
      ],
      "execution_count": null,
      "outputs": []
    },
    {
      "cell_type": "markdown",
      "metadata": {
        "id": "VQ1IIQwO79wD"
      },
      "source": [
        "## ***Train the Object detection model***\n",
        "The command for start the training has the following structure:\n",
        "\n",
        "\n",
        "```\n",
        "`!./darknet detector train <path to obj.data> <path to custom config> darknet53.conv.74 -dont_show`\n",
        "```\n",
        "It is important to paste the following code into the web browser console in order to keep the notebook up during the training.\n",
        "\n",
        "\n",
        "\n",
        "```\n",
        "function ClickConnect(){\n",
        "console.log(\"Working\"); \n",
        "document.querySelector(\"colab-toolbar-button#connect\").click() \n",
        "}\n",
        "setInterval(ClickConnect,60000)\n",
        "```\n",
        "\n",
        "\n"
      ]
    },
    {
      "cell_type": "code",
      "metadata": {
        "id": "yBBJXey78OcA"
      },
      "source": [
        "# train your custom detector\n",
        "!./darknet detector train data/obj.data cfg/yolov3_custom.cfg darknet53.conv.74 -"
      ],
      "execution_count": null,
      "outputs": []
    },
    {
      "cell_type": "markdown",
      "metadata": {
        "id": "wJQqDhFR9EG4"
      },
      "source": [
        "In order to see the chart of how the model did throughout the training process, the following command must be executed:"
      ]
    },
    {
      "cell_type": "code",
      "metadata": {
        "id": "D_eSmfWZ9UBP"
      },
      "source": [
        "imShow('chart.png')"
      ],
      "execution_count": null,
      "outputs": []
    },
    {
      "cell_type": "markdown",
      "metadata": {
        "id": "IRdIQx8c9gXt"
      },
      "source": [
        "In order to keep the training process from some custom pre-trained weights, the follow comand must be executed:\n",
        "\n",
        "\n",
        "```\n",
        "!./darknet detector train data/obj.data cfg/yolov3_custom.cfg /mydrive/yolov3/backup/yolov3_custom_last.weights -dont_show\n",
        "```\n",
        "\n"
      ]
    },
    {
      "cell_type": "code",
      "metadata": {
        "id": "8QS6BF2l9YRk"
      },
      "source": [
        "!./darknet detector train data/obj.data cfg/yolov3_custom.cfg /mydrive/yolov3/backup/yolov3_custom_last.weights -dont_show"
      ],
      "execution_count": null,
      "outputs": []
    },
    {
      "cell_type": "markdown",
      "metadata": {
        "id": "0foPegb991Md"
      },
      "source": [
        "## ***Run the object detector model***"
      ]
    },
    {
      "cell_type": "code",
      "metadata": {
        "id": "ZVNL--hA98QZ"
      },
      "source": [
        "# need to set our custom cfg to test mode \n",
        "%cd cfg\n",
        "!sed -i 's/batch=64/batch=1/' yolov3_custom.cfg\n",
        "!sed -i 's/subdivisions=16/subdivisions=1/' yolov3_custom.cfg\n",
        "%cd .."
      ],
      "execution_count": null,
      "outputs": []
    },
    {
      "cell_type": "code",
      "metadata": {
        "id": "DcrR2asA-FmE"
      },
      "source": [
        "# run your custom detector with this command (upload an image to your google drive to test, thresh flag sets accuracy that detection must be in order to show it)\n",
        "!./darknet detector test data/obj.data cfg/yolov3_custom.cfg /mydrive/yolov3/backup/yolov3_custom_last.weights /mydrive/images/safari.jpg -thresh 0.3\n",
        "imShow('predictions.jpg')"
      ],
      "execution_count": null,
      "outputs": []
    }
  ]
}