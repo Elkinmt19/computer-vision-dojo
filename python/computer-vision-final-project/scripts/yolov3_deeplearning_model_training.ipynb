{
  "cells": [
    {
      "cell_type": "markdown",
      "metadata": {
        "colab_type": "text",
        "id": "view-in-github"
      },
      "source": [
        "<a href=\"https://colab.research.google.com/github/Elkinmt19/computer-vision-dojo/blob/develop/yolov3_deeplearning_model_training.ipynb\" target=\"_parent\"><img src=\"https://colab.research.google.com/assets/colab-badge.svg\" alt=\"Open In Colab\"/></a>"
      ]
    },
    {
      "cell_type": "markdown",
      "metadata": {
        "id": "2xQTNBpQyNgh"
      },
      "source": [
        "# **YOLOv3 DeepLearning Model Training** "
      ]
    },
    {
      "cell_type": "markdown",
      "metadata": {
        "id": "-xXydq_y0Jgu"
      },
      "source": [
        "\n",
        "\n",
        "## ***Enabling GPU within the notebook***\n",
        "First It is needed to enable GPU acceleration within the Colab notebook so that the YOLOv3 system will be able to process detections over 100 faster than CPU.\n",
        "\n"
      ]
    },
    {
      "cell_type": "markdown",
      "metadata": {
        "id": "0HeyBG0k1LhA"
      },
      "source": [
        "## ***Clonning and Building darknet framework***\n"
      ]
    },
    {
      "cell_type": "code",
      "execution_count": null,
      "metadata": {
        "id": "xqY_dofNfvgW"
      },
      "outputs": [],
      "source": [
        "# clone darknet repo\n",
        "!git clone https://github.com/AlexeyAB/darknet"
      ]
    },
    {
      "cell_type": "code",
      "execution_count": null,
      "metadata": {
        "id": "BSlboZUm1cLq"
      },
      "outputs": [],
      "source": [
        "# change makefile to have GPU and OPENCV enabled\n",
        "%cd darknet\n",
        "!sed -i 's/OPENCV=0/OPENCV=1/' Makefile\n",
        "!sed -i 's/GPU=0/GPU=1/' Makefile\n",
        "!sed -i 's/CUDNN=0/CUDNN=1/' Makefile"
      ]
    },
    {
      "cell_type": "code",
      "execution_count": null,
      "metadata": {
        "id": "1yNEeNot1fGs"
      },
      "outputs": [],
      "source": [
        "# verify CUDA\n",
        "!/usr/local/cuda/bin/nvcc --version"
      ]
    },
    {
      "cell_type": "code",
      "execution_count": null,
      "metadata": {
        "id": "Gd2oxqZW1hLM"
      },
      "outputs": [],
      "source": [
        "# make darknet (build)\n",
        "!make"
      ]
    },
    {
      "cell_type": "markdown",
      "metadata": {
        "id": "p0yQWtLi1nFa"
      },
      "source": [
        "## ***Download pretrained YOLOv3 weights***"
      ]
    },
    {
      "cell_type": "code",
      "execution_count": null,
      "metadata": {
        "id": "xy3mn7J_1jlE"
      },
      "outputs": [],
      "source": [
        "# get yolov3 pretrained coco dataset weights\n",
        "!wget https://pjreddie.com/media/files/yolov3.weights"
      ]
    },
    {
      "cell_type": "code",
      "execution_count": null,
      "metadata": {
        "id": "C4Nb82Ml11g6"
      },
      "outputs": [],
      "source": [
        "# define helper functions\n",
        "def imShow(path):\n",
        "  import cv2\n",
        "  import matplotlib.pyplot as plt\n",
        "  %matplotlib inline\n",
        "\n",
        "  image = cv2.imread(path)\n",
        "  height, width = image.shape[:2]\n",
        "  resized_image = cv2.resize(image,(3*width, 3*height), interpolation = cv2.INTER_CUBIC)\n",
        "\n",
        "  fig = plt.gcf()\n",
        "  fig.set_size_inches(18, 10)\n",
        "  plt.axis(\"off\")\n",
        "  plt.imshow(cv2.cvtColor(resized_image, cv2.COLOR_BGR2RGB))\n",
        "  plt.show()\n",
        "\n",
        "# use this to upload files\n",
        "def upload():\n",
        "  from google.colab import files\n",
        "  uploaded = files.upload() \n",
        "  for name, data in uploaded.items():\n",
        "    with open(name, 'wb') as f:\n",
        "      f.write(data)\n",
        "      print ('saved file', name)\n",
        "\n",
        "# use this to download a file  \n",
        "def download(path):\n",
        "  from google.colab import files\n",
        "  files.download(path)"
      ]
    },
    {
      "cell_type": "markdown",
      "metadata": {
        "id": "u-5Q0Epz15XV"
      },
      "source": [
        "## ***Test Running a simple detection with darknet and YOLOv3***\n",
        "The object detector can be run using the following command:\n",
        "\n",
        "\n",
        "```\n",
        "!./darknet detect <path to config> <path to weights> <path to image>\n",
        "```"
      ]
    },
    {
      "cell_type": "code",
      "execution_count": null,
      "metadata": {
        "id": "N-8iREoR2QaX"
      },
      "outputs": [],
      "source": [
        "# run darknet detection\n",
        "!./darknet detect cfg/yolov3.cfg yolov3.weights data/person.jpg"
      ]
    },
    {
      "cell_type": "code",
      "execution_count": null,
      "metadata": {
        "id": "BPGdkscH2atS"
      },
      "outputs": [],
      "source": [
        "# show image using our helper function\n",
        "imShow('predictions.jpg')"
      ]
    },
    {
      "cell_type": "markdown",
      "metadata": {
        "id": "b0C9kFjd44Ko"
      },
      "source": [
        "## ***Setup a link between the notbook and our Google Drive account***"
      ]
    },
    {
      "cell_type": "code",
      "execution_count": null,
      "metadata": {
        "id": "tqg3loVt5IJp"
      },
      "outputs": [],
      "source": [
        "# import drive module funtionalites\n",
        "from google.colab import drive\n",
        "drive.mount('/content/gdrive')"
      ]
    },
    {
      "cell_type": "code",
      "execution_count": null,
      "metadata": {
        "id": "5aeVW7_s5fwy"
      },
      "outputs": [],
      "source": [
        "# this creates a symbolic link so that now the path /content/gdrive/My\\ Drive/ is equal to /mydrive\n",
        "!ln -s /content/gdrive/My\\ Drive/ /mydrive\n",
        "!ls /mydrive"
      ]
    },
    {
      "cell_type": "markdown",
      "metadata": {
        "id": "S4qWpLHt5x_Y"
      },
      "source": [
        "## ***Moving the dataset into the VM***\n",
        "The dataset's file must be called \"obj.zip\"."
      ]
    },
    {
      "cell_type": "code",
      "execution_count": null,
      "metadata": {
        "id": "minkLx0E5iEM"
      },
      "outputs": [],
      "source": [
        "# this is where my zip is stored (I created a yolov3 folder where I will get my required files from)\n",
        "!ls /mydrive/yolov3"
      ]
    },
    {
      "cell_type": "code",
      "execution_count": null,
      "metadata": {
        "id": "ZPuH1ps36Dh1"
      },
      "outputs": [],
      "source": [
        "# copy the .zip file into the root directory of cloud VM\n",
        "!cp /mydrive/yolov3/obj.zip ../"
      ]
    },
    {
      "cell_type": "code",
      "execution_count": null,
      "metadata": {
        "id": "KUA3XNeC69o7"
      },
      "outputs": [],
      "source": [
        "# unzip the zip file and its contents should now be in /darknet/data/obj\n",
        "!unzip ../obj.zip -d data/"
      ]
    },
    {
      "cell_type": "markdown",
      "metadata": {
        "id": "5psQPMDb7Epp"
      },
      "source": [
        "## ***Upload the YOLO files required for the training***"
      ]
    },
    {
      "cell_type": "code",
      "execution_count": null,
      "metadata": {
        "id": "EewOsqis7Nyn"
      },
      "outputs": [],
      "source": [
        "# upload the custom .cfg back to cloud VM from Google Drive\n",
        "!cp /mydrive/yolov3/yolov3_custom.cfg ./cfg"
      ]
    },
    {
      "cell_type": "code",
      "execution_count": null,
      "metadata": {
        "id": "Y_lpTb077Zcv"
      },
      "outputs": [],
      "source": [
        "# upload the obj.names and obj.data files to cloud VM from Google Drive\n",
        "!cp /mydrive/yolov3/obj.names ./data\n",
        "!cp /mydrive/yolov3/obj.data  ./data"
      ]
    },
    {
      "cell_type": "markdown",
      "metadata": {
        "id": "buv3ekw67enr"
      },
      "source": [
        "## ***Generating the train.txt file***"
      ]
    },
    {
      "cell_type": "code",
      "execution_count": null,
      "metadata": {
        "id": "36_r6fGV7mcR"
      },
      "outputs": [],
      "source": [
        "# upload the generate_train.py script to cloud VM from Google Drive\n",
        "!cp /mydrive/yolov3/generate_train.py ./"
      ]
    },
    {
      "cell_type": "code",
      "execution_count": null,
      "metadata": {
        "id": "hbowyQeZ7qUg"
      },
      "outputs": [],
      "source": [
        "!python generate_train.py"
      ]
    },
    {
      "cell_type": "code",
      "execution_count": null,
      "metadata": {
        "id": "yEKfwHe37q6b"
      },
      "outputs": [],
      "source": [
        "# verify train.txt can be seen in our darknet/data folder\n",
        "!ls data/"
      ]
    },
    {
      "cell_type": "markdown",
      "metadata": {
        "id": "UnoMlAuv7vOX"
      },
      "source": [
        "## ***Download pre-trained weights for the convolutional layers***"
      ]
    },
    {
      "cell_type": "code",
      "execution_count": null,
      "metadata": {
        "id": "pEmkZ48T74a7"
      },
      "outputs": [],
      "source": [
        "# upload pretrained convolutional layer weights\n",
        "!wget http://pjreddie.com/media/files/darknet53.conv.74"
      ]
    },
    {
      "cell_type": "markdown",
      "metadata": {
        "id": "VQ1IIQwO79wD"
      },
      "source": [
        "## ***Train the Object detection model***\n",
        "The command for start the training has the following structure:\n",
        "\n",
        "\n",
        "```\n",
        "`!./darknet detector train <path to obj.data> <path to custom config> darknet53.conv.74 -dont_show`\n",
        "```\n",
        "It is important to paste the following code into the web browser console in order to keep the notebook up during the training.\n",
        "\n",
        "\n",
        "\n",
        "```\n",
        "function ClickConnect(){\n",
        "console.log(\"Working\"); \n",
        "document.querySelector(\"colab-toolbar-button#connect\").click() \n",
        "}\n",
        "setInterval(ClickConnect,60000)\n",
        "```\n",
        "\n",
        "\n"
      ]
    },
    {
      "cell_type": "code",
      "execution_count": null,
      "metadata": {
        "id": "yBBJXey78OcA"
      },
      "outputs": [],
      "source": [
        "# train your custom detector\n",
        "!./darknet detector train data/obj.data cfg/yolov3_custom.cfg darknet53.conv.74 -"
      ]
    },
    {
      "cell_type": "markdown",
      "metadata": {
        "id": "wJQqDhFR9EG4"
      },
      "source": [
        "In order to see the chart of how the model did throughout the training process, the following command must be executed:"
      ]
    },
    {
      "cell_type": "code",
      "execution_count": null,
      "metadata": {
        "id": "D_eSmfWZ9UBP"
      },
      "outputs": [],
      "source": [
        "imShow('chart.png')"
      ]
    },
    {
      "cell_type": "markdown",
      "metadata": {
        "id": "IRdIQx8c9gXt"
      },
      "source": [
        "In order to keep the training process from some custom pre-trained weights, the follow comand must be executed:\n",
        "\n",
        "\n",
        "```\n",
        "!./darknet detector train data/obj.data cfg/yolov3_custom.cfg /mydrive/yolov3/backup/yolov3_custom_last.weights -dont_show\n",
        "```\n",
        "\n"
      ]
    },
    {
      "cell_type": "code",
      "execution_count": null,
      "metadata": {
        "id": "8QS6BF2l9YRk"
      },
      "outputs": [],
      "source": [
        "!./darknet detector train data/obj.data cfg/yolov3_custom.cfg /mydrive/yolov3/backup/yolov3_custom_last.weights -dont_show"
      ]
    },
    {
      "cell_type": "markdown",
      "metadata": {
        "id": "0foPegb991Md"
      },
      "source": [
        "## ***Run the object detector model***"
      ]
    },
    {
      "cell_type": "code",
      "execution_count": null,
      "metadata": {
        "id": "ZVNL--hA98QZ"
      },
      "outputs": [],
      "source": [
        "# need to set our custom cfg to test mode \n",
        "%cd cfg\n",
        "!sed -i 's/batch=64/batch=1/' yolov3_custom.cfg\n",
        "!sed -i 's/subdivisions=16/subdivisions=1/' yolov3_custom.cfg\n",
        "%cd .."
      ]
    },
    {
      "cell_type": "code",
      "execution_count": null,
      "metadata": {
        "id": "DcrR2asA-FmE"
      },
      "outputs": [],
      "source": [
        "# run your custom detector with this command (upload an image to your google drive to test, thresh flag sets accuracy that detection must be in order to show it)\n",
        "!./darknet detector test data/obj.data cfg/yolov3_custom.cfg /mydrive/yolov3/backup/yolov3_custom_last.weights /mydrive/images/safari.jpg -thresh 0.3\n",
        "imShow('predictions.jpg')"
      ]
    }
  ],
  "metadata": {
    "accelerator": "GPU",
    "colab": {
      "authorship_tag": "ABX9TyMQg1VZwEPhRL7OPlUTWltU",
      "include_colab_link": true,
      "name": "yolov3_deeplearning_model_training.ipynb",
      "provenance": []
    },
    "kernelspec": {
      "display_name": "Python 3",
      "name": "python3"
    },
    "language_info": {
      "name": "python"
    }
  },
  "nbformat": 4,
  "nbformat_minor": 0
}
